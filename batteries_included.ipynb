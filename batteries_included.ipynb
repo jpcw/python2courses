{
 "metadata": {
  "name": ""
 },
 "nbformat": 3,
 "nbformat_minor": 0,
 "worksheets": [
  {
   "cells": [
    {
     "cell_type": "heading",
     "level": 2,
     "metadata": {},
     "source": [
      "Petit tour dans la std_lib"
     ]
    },
    {
     "cell_type": "raw",
     "metadata": {},
     "source": [
      "On dit souvent que Python est \"batteries included\", au del\u00e0 des types de donn\u00e9es disponibles, cette formulation est due \u00e0 la richesse de la std lib.\n",
      "\n",
      "La std lib fournit des modules qui facilitent la vie du codeur en quantit\u00e9.\n",
      "\n",
      "Nous reviendront particuli\u00e8rement sur certains modules durant la formation (re, argparse, configparser.\n",
      "\n",
      "Cependant au del\u00e0 de la doc officielle (avec des exemples quelque fois \"touffus\") de chaque module, un travail de fond remarquable sur le sujet a \u00e9t\u00e9 fait par Doug Hellman.\n",
      "\n",
      "`PyMOTW`_ ou Python Module of the week est une r\u00e9f\u00e9rence incourtnable pour quiconque veut appr\u00e9hender de fa\u00e7on efficace un module de la stdlib.\n",
      "\n",
      "\n",
      ".. _`PyMOTW`: http://pymotw.com/2/\n"
     ]
    }
   ],
   "metadata": {}
  }
 ]
}