{
 "metadata": {
  "name": ""
 },
 "nbformat": 3,
 "nbformat_minor": 0,
 "worksheets": [
  {
   "cells": [
    {
     "cell_type": "heading",
     "level": 2,
     "metadata": {},
     "source": [
      "Listes"
     ]
    },
    {
     "cell_type": "raw",
     "metadata": {},
     "source": [
      "Certainement l'un des objets les plus utilis\u00e9. Les listes ne sont pas des tableaux, et elles peuvent contenir des items de diff\u00e9rents types.\n",
      "Il existe un type d'objet array() qui lui ne contient que des \u00e9l\u00e9ments d'un m\u00eame type. Ce dernier est peu utilis\u00e9, pour des tableaux puissants il faut s'appuyer sur la biblioth\u00e8que scientifique numpy | scipy."
     ]
    },
    {
     "cell_type": "code",
     "collapsed": false,
     "input": [
      ">>> fruits = ['bananes', 'pommes', 'fraises']\n",
      ">>> help(fruits)"
     ],
     "language": "python",
     "metadata": {},
     "outputs": [
      {
       "output_type": "stream",
       "stream": "stdout",
       "text": [
        "Help on list object:\n",
        "\n",
        "class list(object)\n",
        " |  list() -> new empty list\n",
        " |  list(iterable) -> new list initialized from iterable's items\n",
        " |  \n",
        " |  Methods defined here:\n",
        " |  \n",
        " |  __add__(...)\n",
        " |      x.__add__(y) <==> x+y\n",
        " |  \n",
        " |  __contains__(...)\n",
        " |      x.__contains__(y) <==> y in x\n",
        " |  \n",
        " |  __delitem__(...)\n",
        " |      x.__delitem__(y) <==> del x[y]\n",
        " |  \n",
        " |  __delslice__(...)\n",
        " |      x.__delslice__(i, j) <==> del x[i:j]\n",
        " |      \n",
        " |      Use of negative indices is not supported.\n",
        " |  \n",
        " |  __eq__(...)\n",
        " |      x.__eq__(y) <==> x==y\n",
        " |  \n",
        " |  __ge__(...)\n",
        " |      x.__ge__(y) <==> x>=y\n",
        " |  \n",
        " |  __getattribute__(...)\n",
        " |      x.__getattribute__('name') <==> x.name\n",
        " |  \n",
        " |  __getitem__(...)\n",
        " |      x.__getitem__(y) <==> x[y]\n",
        " |  \n",
        " |  __getslice__(...)\n",
        " |      x.__getslice__(i, j) <==> x[i:j]\n",
        " |      \n",
        " |      Use of negative indices is not supported.\n",
        " |  \n",
        " |  __gt__(...)\n",
        " |      x.__gt__(y) <==> x>y\n",
        " |  \n",
        " |  __iadd__(...)\n",
        " |      x.__iadd__(y) <==> x+=y\n",
        " |  \n",
        " |  __imul__(...)\n",
        " |      x.__imul__(y) <==> x*=y\n",
        " |  \n",
        " |  __init__(...)\n",
        " |      x.__init__(...) initializes x; see help(type(x)) for signature\n",
        " |  \n",
        " |  __iter__(...)\n",
        " |      x.__iter__() <==> iter(x)\n",
        " |  \n",
        " |  __le__(...)\n",
        " |      x.__le__(y) <==> x<=y\n",
        " |  \n",
        " |  __len__(...)\n",
        " |      x.__len__() <==> len(x)\n",
        " |  \n",
        " |  __lt__(...)\n",
        " |      x.__lt__(y) <==> x<y\n",
        " |  \n",
        " |  __mul__(...)\n",
        " |      x.__mul__(n) <==> x*n\n",
        " |  \n",
        " |  __ne__(...)\n",
        " |      x.__ne__(y) <==> x!=y\n",
        " |  \n",
        " |  __repr__(...)\n",
        " |      x.__repr__() <==> repr(x)\n",
        " |  \n",
        " |  __reversed__(...)\n",
        " |      L.__reversed__() -- return a reverse iterator over the list\n",
        " |  \n",
        " |  __rmul__(...)\n",
        " |      x.__rmul__(n) <==> n*x\n",
        " |  \n",
        " |  __setitem__(...)\n",
        " |      x.__setitem__(i, y) <==> x[i]=y\n",
        " |  \n",
        " |  __setslice__(...)\n",
        " |      x.__setslice__(i, j, y) <==> x[i:j]=y\n",
        " |      \n",
        " |      Use  of negative indices is not supported.\n",
        " |  \n",
        " |  __sizeof__(...)\n",
        " |      L.__sizeof__() -- size of L in memory, in bytes\n",
        " |  \n",
        " |  append(...)\n",
        " |      L.append(object) -- append object to end\n",
        " |  \n",
        " |  count(...)\n",
        " |      L.count(value) -> integer -- return number of occurrences of value\n",
        " |  \n",
        " |  extend(...)\n",
        " |      L.extend(iterable) -- extend list by appending elements from the iterable\n",
        " |  \n",
        " |  index(...)\n",
        " |      L.index(value, [start, [stop]]) -> integer -- return first index of value.\n",
        " |      Raises ValueError if the value is not present.\n",
        " |  \n",
        " |  insert(...)\n",
        " |      L.insert(index, object) -- insert object before index\n",
        " |  \n",
        " |  pop(...)\n",
        " |      L.pop([index]) -> item -- remove and return item at index (default last).\n",
        " |      Raises IndexError if list is empty or index is out of range.\n",
        " |  \n",
        " |  remove(...)\n",
        " |      L.remove(value) -- remove first occurrence of value.\n",
        " |      Raises ValueError if the value is not present.\n",
        " |  \n",
        " |  reverse(...)\n",
        " |      L.reverse() -- reverse *IN PLACE*\n",
        " |  \n",
        " |  sort(...)\n",
        " |      L.sort(cmp=None, key=None, reverse=False) -- stable sort *IN PLACE*;\n",
        " |      cmp(x, y) -> -1, 0, 1\n",
        " |  \n",
        " |  ----------------------------------------------------------------------\n",
        " |  Data and other attributes defined here:\n",
        " |  \n",
        " |  __hash__ = None\n",
        " |  \n",
        " |  __new__ = <built-in method __new__ of type object>\n",
        " |      T.__new__(S, ...) -> a new object with type S, a subtype of T\n",
        "\n"
       ]
      }
     ],
     "prompt_number": 44
    },
    {
     "cell_type": "raw",
     "metadata": {},
     "source": [
      ".. exo:: Ajouter des \"mangues\" aux fruits\n",
      "\n",
      ".. exo:: supprimer les mangues\n",
      "\n",
      ".. exo:: dire si les bananes sont pr\u00e9sentes\n",
      "\n",
      ".. exo:: rajouter les mangues\n",
      "\n",
      ".. exo:: trier les fruits par ordre alphab\u00e9tique d\u00e9croissant\n",
      "\n",
      ".. exo:: donner le nombre de fruits\n",
      "\n",
      ".. exo:: expliquer la diff\u00e9rence entre append et extend\n",
      "\n",
      ".. exo:: Ajouter \u00e0 nouveau les mangues\n",
      "\n",
      ".. exo:: inverser l'ordre de la liste \n",
      "\n",
      "R\u00e9sultat final ['mangues', 'bananes', 'fraises', 'pommes']"
     ]
    },
    {
     "cell_type": "code",
     "collapsed": false,
     "input": [
      ">>> fruits"
     ],
     "language": "python",
     "metadata": {},
     "outputs": [
      {
       "metadata": {},
       "output_type": "pyout",
       "prompt_number": 45,
       "text": [
        "['bananes', 'pommes', 'fraises']"
       ]
      }
     ],
     "prompt_number": 45
    },
    {
     "cell_type": "code",
     "collapsed": false,
     "input": [
      ">>> fruits.append('mangues')\n",
      ">>> fruits\n"
     ],
     "language": "python",
     "metadata": {},
     "outputs": [
      {
       "metadata": {},
       "output_type": "pyout",
       "prompt_number": 46,
       "text": [
        "['bananes', 'pommes', 'fraises', 'mangues']"
       ]
      }
     ],
     "prompt_number": 46
    },
    {
     "cell_type": "code",
     "collapsed": false,
     "input": [
      ">>> fruits.pop()\n",
      ">>> fruits"
     ],
     "language": "python",
     "metadata": {},
     "outputs": [
      {
       "metadata": {},
       "output_type": "pyout",
       "prompt_number": 47,
       "text": [
        "['bananes', 'pommes', 'fraises']"
       ]
      }
     ],
     "prompt_number": 47
    },
    {
     "cell_type": "code",
     "collapsed": false,
     "input": [
      ">>> help(fruits.pop)"
     ],
     "language": "python",
     "metadata": {},
     "outputs": [
      {
       "output_type": "stream",
       "stream": "stdout",
       "text": [
        "Help on built-in function pop:\n",
        "\n",
        "pop(...)\n",
        "    L.pop([index]) -> item -- remove and return item at index (default last).\n",
        "    Raises IndexError if list is empty or index is out of range.\n",
        "\n"
       ]
      }
     ],
     "prompt_number": 48
    },
    {
     "cell_type": "code",
     "collapsed": false,
     "input": [
      ">>> 'bananes' in fruits"
     ],
     "language": "python",
     "metadata": {},
     "outputs": [
      {
       "metadata": {},
       "output_type": "pyout",
       "prompt_number": 49,
       "text": [
        "True"
       ]
      }
     ],
     "prompt_number": 49
    },
    {
     "cell_type": "code",
     "collapsed": false,
     "input": [
      ">>> fruits.sort(reverse=True)\n",
      ">>> fruits"
     ],
     "language": "python",
     "metadata": {},
     "outputs": [
      {
       "metadata": {},
       "output_type": "pyout",
       "prompt_number": 50,
       "text": [
        "['pommes', 'fraises', 'bananes']"
       ]
      }
     ],
     "prompt_number": 50
    },
    {
     "cell_type": "code",
     "collapsed": false,
     "input": [
      ">>> len(fruits)"
     ],
     "language": "python",
     "metadata": {},
     "outputs": [
      {
       "metadata": {},
       "output_type": "pyout",
       "prompt_number": 51,
       "text": [
        "3"
       ]
      }
     ],
     "prompt_number": 51
    },
    {
     "cell_type": "code",
     "collapsed": false,
     "input": [
      ">>> fruits.extend('mangues')\n",
      ">>> fruits"
     ],
     "language": "python",
     "metadata": {},
     "outputs": [
      {
       "metadata": {},
       "output_type": "pyout",
       "prompt_number": 52,
       "text": [
        "['pommes', 'fraises', 'bananes', 'm', 'a', 'n', 'g', 'u', 'e', 's']"
       ]
      }
     ],
     "prompt_number": 52
    },
    {
     "cell_type": "code",
     "collapsed": false,
     "input": [
      ">>> fruits = fruits [:3]\n",
      ">>> fruits"
     ],
     "language": "python",
     "metadata": {},
     "outputs": [
      {
       "metadata": {},
       "output_type": "pyout",
       "prompt_number": 53,
       "text": [
        "['pommes', 'fraises', 'bananes']"
       ]
      }
     ],
     "prompt_number": 53
    },
    {
     "cell_type": "code",
     "collapsed": false,
     "input": [
      ">>> fruits.append('mangues')\n",
      ">>> fruits.reverse()\n",
      ">>> fruits"
     ],
     "language": "python",
     "metadata": {},
     "outputs": [
      {
       "metadata": {},
       "output_type": "pyout",
       "prompt_number": 54,
       "text": [
        "['mangues', 'bananes', 'fraises', 'pommes']"
       ]
      }
     ],
     "prompt_number": 54
    },
    {
     "cell_type": "heading",
     "level": 3,
     "metadata": {},
     "source": [
      "Dictionnaires"
     ]
    },
    {
     "cell_type": "raw",
     "metadata": {},
     "source": [
      "Les dictionnaires sont souvent consid\u00e9r\u00e9s comme des \"tableaux\" associatifs. Ils ont impl\u00e9ment\u00e9 via des \"hash-table\".\n",
      "\n",
      "Les clefs peuvent \u00eatre un objet immuable soit une string, int,  un tuple un d\u00e9cimal (float). Les valeurs peuvent contenir n'importe quel autre objet."
     ]
    },
    {
     "cell_type": "code",
     "collapsed": false,
     "input": [
      ">>> formateur = {'nom': 'Skywaleker', u'\u00e2ge': 42, 'addresse': 'Tatooine', 'profession': 'Jedi', u'pr\u00e9nom': 'Luc', 'hobbies': ['*BSD', 'PauLLA', 'Python', 'Chess']}"
     ],
     "language": "python",
     "metadata": {},
     "outputs": [],
     "prompt_number": 68
    },
    {
     "cell_type": "code",
     "collapsed": false,
     "input": [
      ">>> from pprint import pprint\n",
      ">>> pprint(formateur)"
     ],
     "language": "python",
     "metadata": {},
     "outputs": [
      {
       "output_type": "stream",
       "stream": "stdout",
       "text": [
        "{'addresse': 'Tatooine',\n",
        " 'hobbies': ['*BSD', 'PauLLA', 'Python', 'Chess'],\n",
        " 'nom': 'Skywaleker',\n",
        " 'profession': 'Jedi',\n",
        " u'pr\\xe9nom': 'Luc',\n",
        " u'\\xe2ge': 42}\n"
       ]
      }
     ],
     "prompt_number": 69
    },
    {
     "cell_type": "raw",
     "metadata": {},
     "source": [
      "Comme on le voit, les clefs ne sont pas ordonn\u00e9es, et l'ordre d'insertion n'est pas respect\u00e9. Tout d\u00e9pend de l'\u00e9valuation des fonctions de hashage interne, on ne peut pr\u00e9dire l'ordre d'un dictionnaire. Depuis PythoN2.7 sont disponibles des OrderedDict dans le module collection de la stdlib."
     ]
    },
    {
     "cell_type": "code",
     "collapsed": false,
     "input": [
      ">>> len(formateur)"
     ],
     "language": "python",
     "metadata": {},
     "outputs": [
      {
       "metadata": {},
       "output_type": "pyout",
       "prompt_number": 70,
       "text": [
        "6"
       ]
      }
     ],
     "prompt_number": 70
    },
    {
     "cell_type": "code",
     "collapsed": false,
     "input": [
      ">>> formateur.keys()"
     ],
     "language": "python",
     "metadata": {},
     "outputs": [
      {
       "metadata": {},
       "output_type": "pyout",
       "prompt_number": 71,
       "text": [
        "['nom', u'\\xe2ge', 'profession', 'hobbies', u'pr\\xe9nom', 'addresse']"
       ]
      }
     ],
     "prompt_number": 71
    },
    {
     "cell_type": "code",
     "collapsed": false,
     "input": [
      ">>> formateur.values()"
     ],
     "language": "python",
     "metadata": {},
     "outputs": [
      {
       "metadata": {},
       "output_type": "pyout",
       "prompt_number": 72,
       "text": [
        "['Skywaleker',\n",
        " 42,\n",
        " 'Jedi',\n",
        " ['*BSD', 'PauLLA', 'Python', 'Chess'],\n",
        " 'Luc',\n",
        " 'Tatooine']"
       ]
      }
     ],
     "prompt_number": 72
    },
    {
     "cell_type": "code",
     "collapsed": false,
     "input": [
      ">>> formateur['hobbies']"
     ],
     "language": "python",
     "metadata": {},
     "outputs": [
      {
       "metadata": {},
       "output_type": "pyout",
       "prompt_number": 73,
       "text": [
        "['*BSD', 'PauLLA', 'Python', 'Chess']"
       ]
      }
     ],
     "prompt_number": 73
    },
    {
     "cell_type": "code",
     "collapsed": false,
     "input": [
      ">>> 'nom' in formateur"
     ],
     "language": "python",
     "metadata": {},
     "outputs": [
      {
       "metadata": {},
       "output_type": "pyout",
       "prompt_number": 74,
       "text": [
        "True"
       ]
      }
     ],
     "prompt_number": 74
    },
    {
     "cell_type": "code",
     "collapsed": false,
     "input": [
      ">>> formateur['nom'] = 'Skywalker'"
     ],
     "language": "python",
     "metadata": {},
     "outputs": [],
     "prompt_number": 75
    },
    {
     "cell_type": "code",
     "collapsed": false,
     "input": [
      ">>> formateur.items()"
     ],
     "language": "python",
     "metadata": {},
     "outputs": [
      {
       "metadata": {},
       "output_type": "pyout",
       "prompt_number": 76,
       "text": [
        "[('nom', 'Skywalker'),\n",
        " (u'\\xe2ge', 42),\n",
        " ('profession', 'Jedi'),\n",
        " ('hobbies', ['*BSD', 'PauLLA', 'Python', 'Chess']),\n",
        " (u'pr\\xe9nom', 'Luc'),\n",
        " ('addresse', 'Tatooine')]"
       ]
      }
     ],
     "prompt_number": 76
    },
    {
     "cell_type": "code",
     "collapsed": false,
     "input": [
      ">>> help(formateur)"
     ],
     "language": "python",
     "metadata": {},
     "outputs": [
      {
       "output_type": "stream",
       "stream": "stdout",
       "text": [
        "Help on dict object:\n",
        "\n",
        "class dict(object)\n",
        " |  dict() -> new empty dictionary\n",
        " |  dict(mapping) -> new dictionary initialized from a mapping object's\n",
        " |      (key, value) pairs\n",
        " |  dict(iterable) -> new dictionary initialized as if via:\n",
        " |      d = {}\n",
        " |      for k, v in iterable:\n",
        " |          d[k] = v\n",
        " |  dict(**kwargs) -> new dictionary initialized with the name=value pairs\n",
        " |      in the keyword argument list.  For example:  dict(one=1, two=2)\n",
        " |  \n",
        " |  Methods defined here:\n",
        " |  \n",
        " |  __cmp__(...)\n",
        " |      x.__cmp__(y) <==> cmp(x,y)\n",
        " |  \n",
        " |  __contains__(...)\n",
        " |      D.__contains__(k) -> True if D has a key k, else False\n",
        " |  \n",
        " |  __delitem__(...)\n",
        " |      x.__delitem__(y) <==> del x[y]\n",
        " |  \n",
        " |  __eq__(...)\n",
        " |      x.__eq__(y) <==> x==y\n",
        " |  \n",
        " |  __ge__(...)\n",
        " |      x.__ge__(y) <==> x>=y\n",
        " |  \n",
        " |  __getattribute__(...)\n",
        " |      x.__getattribute__('name') <==> x.name\n",
        " |  \n",
        " |  __getitem__(...)\n",
        " |      x.__getitem__(y) <==> x[y]\n",
        " |  \n",
        " |  __gt__(...)\n",
        " |      x.__gt__(y) <==> x>y\n",
        " |  \n",
        " |  __init__(...)\n",
        " |      x.__init__(...) initializes x; see help(type(x)) for signature\n",
        " |  \n",
        " |  __iter__(...)\n",
        " |      x.__iter__() <==> iter(x)\n",
        " |  \n",
        " |  __le__(...)\n",
        " |      x.__le__(y) <==> x<=y\n",
        " |  \n",
        " |  __len__(...)\n",
        " |      x.__len__() <==> len(x)\n",
        " |  \n",
        " |  __lt__(...)\n",
        " |      x.__lt__(y) <==> x<y\n",
        " |  \n",
        " |  __ne__(...)\n",
        " |      x.__ne__(y) <==> x!=y\n",
        " |  \n",
        " |  __repr__(...)\n",
        " |      x.__repr__() <==> repr(x)\n",
        " |  \n",
        " |  __setitem__(...)\n",
        " |      x.__setitem__(i, y) <==> x[i]=y\n",
        " |  \n",
        " |  __sizeof__(...)\n",
        " |      D.__sizeof__() -> size of D in memory, in bytes\n",
        " |  \n",
        " |  clear(...)\n",
        " |      D.clear() -> None.  Remove all items from D.\n",
        " |  \n",
        " |  copy(...)\n",
        " |      D.copy() -> a shallow copy of D\n",
        " |  \n",
        " |  fromkeys(...)\n",
        " |      dict.fromkeys(S[,v]) -> New dict with keys from S and values equal to v.\n",
        " |      v defaults to None.\n",
        " |  \n",
        " |  get(...)\n",
        " |      D.get(k[,d]) -> D[k] if k in D, else d.  d defaults to None.\n",
        " |  \n",
        " |  has_key(...)\n",
        " |      D.has_key(k) -> True if D has a key k, else False\n",
        " |  \n",
        " |  items(...)\n",
        " |      D.items() -> list of D's (key, value) pairs, as 2-tuples\n",
        " |  \n",
        " |  iteritems(...)\n",
        " |      D.iteritems() -> an iterator over the (key, value) items of D\n",
        " |  \n",
        " |  iterkeys(...)\n",
        " |      D.iterkeys() -> an iterator over the keys of D\n",
        " |  \n",
        " |  itervalues(...)\n",
        " |      D.itervalues() -> an iterator over the values of D\n",
        " |  \n",
        " |  keys(...)\n",
        " |      D.keys() -> list of D's keys\n",
        " |  \n",
        " |  pop(...)\n",
        " |      D.pop(k[,d]) -> v, remove specified key and return the corresponding value.\n",
        " |      If key is not found, d is returned if given, otherwise KeyError is raised\n",
        " |  \n",
        " |  popitem(...)\n",
        " |      D.popitem() -> (k, v), remove and return some (key, value) pair as a\n",
        " |      2-tuple; but raise KeyError if D is empty.\n",
        " |  \n",
        " |  setdefault(...)\n",
        " |      D.setdefault(k[,d]) -> D.get(k,d), also set D[k]=d if k not in D\n",
        " |  \n",
        " |  update(...)\n",
        " |      D.update([E, ]**F) -> None.  Update D from dict/iterable E and F.\n",
        " |      If E present and has a .keys() method, does:     for k in E: D[k] = E[k]\n",
        " |      If E present and lacks .keys() method, does:     for (k, v) in E: D[k] = v\n",
        " |      In either case, this is followed by: for k in F: D[k] = F[k]\n",
        " |  \n",
        " |  values(...)\n",
        " |      D.values() -> list of D's values\n",
        " |  \n",
        " |  viewitems(...)\n",
        " |      D.viewitems() -> a set-like object providing a view on D's items\n",
        " |  \n",
        " |  viewkeys(...)\n",
        " |      D.viewkeys() -> a set-like object providing a view on D's keys\n",
        " |  \n",
        " |  viewvalues(...)\n",
        " |      D.viewvalues() -> an object providing a view on D's values\n",
        " |  \n",
        " |  ----------------------------------------------------------------------\n",
        " |  Data and other attributes defined here:\n",
        " |  \n",
        " |  __hash__ = None\n",
        " |  \n",
        " |  __new__ = <built-in method __new__ of type object>\n",
        " |      T.__new__(S, ...) -> a new object with type S, a subtype of T\n",
        "\n"
       ]
      }
     ],
     "prompt_number": 77
    },
    {
     "cell_type": "code",
     "collapsed": false,
     "input": [
      ">>> formateur.get('robot') is None"
     ],
     "language": "python",
     "metadata": {},
     "outputs": [
      {
       "metadata": {},
       "output_type": "pyout",
       "prompt_number": 78,
       "text": [
        "True"
       ]
      }
     ],
     "prompt_number": 78
    },
    {
     "cell_type": "raw",
     "metadata": {},
     "source": [
      ".. exo:: ajouter des 'talents' \u00e0 formateur : ('acteur', 'surfeur', 'codeur', 'administrateur') = True\n",
      ".. exo:: modifier ses 'hobbies' : ajouter la p\u00eache\n",
      ".. exo:: modifier la clef addresse en adresse\n",
      ".. exo:: fusionner formateur avec le dico {'robots': ['r2d2', 'sispeo']}\n",
      ".. exo:: expliquer la diff\u00e9rence entre items et iteritems"
     ]
    },
    {
     "cell_type": "code",
     "collapsed": false,
     "input": [
      ">>> formateur[('acteur', 'surfeur', 'codeur', 'administrateur')] = True"
     ],
     "language": "python",
     "metadata": {},
     "outputs": [],
     "prompt_number": 81
    },
    {
     "cell_type": "code",
     "collapsed": false,
     "input": [
      ">>> formateur['hobbies'].append(u'p\u00eache')"
     ],
     "language": "python",
     "metadata": {},
     "outputs": [],
     "prompt_number": 83
    },
    {
     "cell_type": "code",
     "collapsed": false,
     "input": [
      ">>> formateur['adresse'] = formateur['addresse']"
     ],
     "language": "python",
     "metadata": {},
     "outputs": [],
     "prompt_number": 84
    },
    {
     "cell_type": "code",
     "collapsed": false,
     "input": [
      ">>> formateur.pop('addresse')"
     ],
     "language": "python",
     "metadata": {},
     "outputs": [
      {
       "metadata": {},
       "output_type": "pyout",
       "prompt_number": 85,
       "text": [
        "'Tatooine'"
       ]
      }
     ],
     "prompt_number": 85
    },
    {
     "cell_type": "code",
     "collapsed": false,
     "input": [
      ">>> formateur.update({'robots':  ['r2d2', 'sispeo']})"
     ],
     "language": "python",
     "metadata": {},
     "outputs": [],
     "prompt_number": 79
    },
    {
     "cell_type": "code",
     "collapsed": false,
     "input": [
      ">>> formateur"
     ],
     "language": "python",
     "metadata": {},
     "outputs": [
      {
       "metadata": {},
       "output_type": "pyout",
       "prompt_number": 86,
       "text": [
        "{'adresse': 'Tatooine',\n",
        " 'hobbies': ['*BSD', 'PauLLA', 'Python', 'Chess', u'p\\xeache'],\n",
        " 'nom': 'Skywalker',\n",
        " 'profession': 'Jedi',\n",
        " u'pr\\xe9nom': 'Luc',\n",
        " 'robots': ['r2d2', 'sispeo'],\n",
        " ('acteur', 'surfeur', 'codeur', 'administrateur'): True,\n",
        " u'\\xe2ge': 42}"
       ]
      }
     ],
     "prompt_number": 86
    },
    {
     "cell_type": "code",
     "collapsed": false,
     "input": [
      "help(formateur.iteritems)"
     ],
     "language": "python",
     "metadata": {},
     "outputs": [
      {
       "output_type": "stream",
       "stream": "stdout",
       "text": [
        "Help on built-in function iteritems:\n",
        "\n",
        "iteritems(...)\n",
        "    D.iteritems() -> an iterator over the (key, value) items of D\n",
        "\n"
       ]
      }
     ],
     "prompt_number": 87
    },
    {
     "cell_type": "heading",
     "level": 3,
     "metadata": {},
     "source": [
      "sets"
     ]
    },
    {
     "cell_type": "code",
     "collapsed": false,
     "input": [],
     "language": "python",
     "metadata": {},
     "outputs": []
    }
   ],
   "metadata": {}
  }
 ]
}