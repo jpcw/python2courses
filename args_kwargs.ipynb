{
 "metadata": {
  "name": ""
 },
 "nbformat": 3,
 "nbformat_minor": 0,
 "worksheets": [
  {
   "cells": [
    {
     "cell_type": "raw",
     "metadata": {},
     "source": [
      "Il existe 3 tyes de param\u00e8tres :\n",
      "\n",
      " * les param\u00e8tres explicites qui peuvent avoir des valeurs par d\u00e9faut func(a, b=2)\n",
      " * les param\u00e8tres arbitraires (*args) ils seront pass\u00e9s sous la forme d'une s\u00e9quence(tuple, liste, set)\n",
      " * les param\u00e8tres arbitraires nomm\u00e9s (**kwargs) ils seront pass\u00e9s sous la forme d'un dictionnaire"
     ]
    },
    {
     "cell_type": "raw",
     "metadata": {},
     "source": [
      ".. note:: un param\u00e8tre est la d\u00e9finition d'un objet attendu, un argument est la valeur pass\u00e9e lors de l'appel de la fonction"
     ]
    },
    {
     "cell_type": "heading",
     "level": 4,
     "metadata": {},
     "source": [
      "les param\u00e8tres explicites"
     ]
    },
    {
     "cell_type": "code",
     "collapsed": false,
     "input": [
      ">>> def compute(a, b, c):\n",
      "...     return a + b - c"
     ],
     "language": "python",
     "metadata": {},
     "outputs": [],
     "prompt_number": 1
    },
    {
     "cell_type": "code",
     "collapsed": false,
     "input": [
      ">>> compute(1, 2, 3)"
     ],
     "language": "python",
     "metadata": {},
     "outputs": [
      {
       "metadata": {},
       "output_type": "pyout",
       "prompt_number": 2,
       "text": [
        "0"
       ]
      }
     ],
     "prompt_number": 2
    },
    {
     "cell_type": "raw",
     "metadata": {},
     "source": [
      ".. note:: ne pas confondre le * de la function (celui de la d\u00e9claration d'acceptation param\u00e8tres arbitraires)  et celui lors de l'appel !\n",
      "   ici le tuple (un autre type de s\u00e9quence est valable : liste, set) est 'unpack\u00e9' sur les arguments dans l'ordre respectif\n",
      "   idem ne pas confondre le ** de la function (celui de la d\u00e9claration d'acceptation de param\u00e8tres arbitraires nomm\u00e9s) et celui de l'appel."
     ]
    },
    {
     "cell_type": "code",
     "collapsed": false,
     "input": [
      ">>> nbers = (1, 2, 3)\n",
      ">>> compute(*nbers)"
     ],
     "language": "python",
     "metadata": {},
     "outputs": [
      {
       "metadata": {},
       "output_type": "pyout",
       "prompt_number": 3,
       "text": [
        "0"
       ]
      }
     ],
     "prompt_number": 3
    },
    {
     "cell_type": "code",
     "collapsed": false,
     "input": [
      ">>> other_args = {'a': 1, 'c': 3, 'b': 2}\n",
      ">>> compute(**other_args)"
     ],
     "language": "python",
     "metadata": {},
     "outputs": [
      {
       "metadata": {},
       "output_type": "pyout",
       "prompt_number": 4,
       "text": [
        "0"
       ]
      }
     ],
     "prompt_number": 4
    },
    {
     "cell_type": "raw",
     "metadata": {},
     "source": [
      ".. note:: tous les arguments peuvent \u00eatre nomm\u00e9s ce qui permet de les passer dans le d\u00e9sordre lors de l'appel"
     ]
    },
    {
     "cell_type": "code",
     "collapsed": false,
     "input": [
      ">>> compute(4, c=2, b=1)"
     ],
     "language": "python",
     "metadata": {},
     "outputs": [
      {
       "metadata": {},
       "output_type": "pyout",
       "prompt_number": 5,
       "text": [
        "3"
       ]
      }
     ],
     "prompt_number": 5
    },
    {
     "cell_type": "raw",
     "metadata": {},
     "source": [
      "les param\u00e8tres explicites peuvent bien entendu avoir une valeur par d\u00e9faut"
     ]
    },
    {
     "cell_type": "code",
     "collapsed": false,
     "input": [
      ">>> def compute(a, b, c=5):\n",
      "...     return a + b - c\n",
      "\n",
      ">>> compute(4, 1)"
     ],
     "language": "python",
     "metadata": {},
     "outputs": [
      {
       "metadata": {},
       "output_type": "pyout",
       "prompt_number": 6,
       "text": [
        "0"
       ]
      }
     ],
     "prompt_number": 6
    },
    {
     "cell_type": "code",
     "collapsed": false,
     "input": [
      ">>> compute(*nbers)"
     ],
     "language": "python",
     "metadata": {},
     "outputs": [
      {
       "metadata": {},
       "output_type": "pyout",
       "prompt_number": 7,
       "text": [
        "0"
       ]
      }
     ],
     "prompt_number": 7
    },
    {
     "cell_type": "raw",
     "metadata": {},
     "source": [
      ".. warning:: la valeur par d\u00e9faut d'un param\u00e8tre n'est \u00e9valu\u00e9e que lors de la d\u00e9claration."
     ]
    },
    {
     "cell_type": "code",
     "collapsed": false,
     "input": [
      ">>> first_name = 'Luc'\n",
      ">>> def say_hello_master(jedi=first_name):\n",
      "...      return 'hello %s' % jedi\n",
      ">>> say_hello_master()"
     ],
     "language": "python",
     "metadata": {},
     "outputs": [
      {
       "metadata": {},
       "output_type": "pyout",
       "prompt_number": 8,
       "text": [
        "'hello Luc'"
       ]
      }
     ],
     "prompt_number": 8
    },
    {
     "cell_type": "code",
     "collapsed": false,
     "input": [
      ">>> first_name = 'Anakin'\n",
      ">>> say_hello_master()"
     ],
     "language": "python",
     "metadata": {},
     "outputs": [
      {
       "metadata": {},
       "output_type": "pyout",
       "prompt_number": 9,
       "text": [
        "'hello Luc'"
       ]
      }
     ],
     "prompt_number": 9
    },
    {
     "cell_type": "heading",
     "level": 4,
     "metadata": {},
     "source": [
      "les param\u00e8tres arbitraires *args"
     ]
    },
    {
     "cell_type": "raw",
     "metadata": {},
     "source": [
      ".. note:: *args est une convention d'utilisation seule * compte le terme qui suit pouvant prendre n'importe quelle valeur : *arbitrary_values "
     ]
    },
    {
     "cell_type": "code",
     "collapsed": false,
     "input": [
      ">>> def compute(a, b, c=4, *args):\n",
      "...     return a + b - c + sum(args)\n",
      ">>> compute(1, 2, *nbers)"
     ],
     "language": "python",
     "metadata": {},
     "outputs": [
      {
       "metadata": {},
       "output_type": "pyout",
       "prompt_number": 10,
       "text": [
        "7"
       ]
      }
     ],
     "prompt_number": 10
    },
    {
     "cell_type": "raw",
     "metadata": {},
     "source": [
      ".. warning:: ici 'c' a pris la valeur de nbers[0] soit 1\n",
      "   le calcul a \u00e9t\u00e9 le suivant : 1 + 2 - 1 + (2 + 3) "
     ]
    },
    {
     "cell_type": "heading",
     "level": 4,
     "metadata": {},
     "source": [
      "les param\u00e8tres arbitraires nomm\u00e9s **kwargs"
     ]
    },
    {
     "cell_type": "raw",
     "metadata": {},
     "source": [
      ".. note:: **kwargs est une convention d'utilisation seul le ** compte le terme qui suit pouvant prendre n'importe quelle valeur : **named_arbitrary_values "
     ]
    },
    {
     "cell_type": "code",
     "collapsed": false,
     "input": [
      ">>> named_arbitrary_args = {'f': 1, 'g': 3, 'h': 2}\n",
      ">>> def compute(a, b, c=4, **kwargs):\n",
      "...     return a + b - c + sum(kwargs.values())\n",
      ">>> compute(1, 2, **named_arbitrary_args)"
     ],
     "language": "python",
     "metadata": {},
     "outputs": [
      {
       "metadata": {},
       "output_type": "pyout",
       "prompt_number": 15,
       "text": [
        "5"
       ]
      }
     ],
     "prompt_number": 15
    },
    {
     "cell_type": "raw",
     "metadata": {},
     "source": [
      "On peut bien entendu combiner le tout, il faut cependant respecter l'ordre suivant :\n",
      "\n",
      "def func(explicit_params, explicit_params_with_default_values, *arbitrary_params, **named_arbitrary_params):\n",
      "\n",
      "Et il faut aussi \u00e9viter la collision de paramam\u00e8tres multiples."
     ]
    },
    {
     "cell_type": "code",
     "collapsed": false,
     "input": [
      ">>> def compute(a, b, c=4, *args, **kwargs):\n",
      "...     return a + b - c + sum(args) - sum(kwargs.values())\n",
      ">>> compute(1, 3, *nbers, **named_arbitrary_args)\n"
     ],
     "language": "python",
     "metadata": {},
     "outputs": [
      {
       "metadata": {},
       "output_type": "pyout",
       "prompt_number": 16,
       "text": [
        "2"
       ]
      }
     ],
     "prompt_number": 16
    },
    {
     "cell_type": "raw",
     "metadata": {},
     "source": [
      ".. warning:: ici 'c' a pris la valeur de nbers[0] soit 1\n",
      "   le calcul a \u00e9t\u00e9 le suivant : 1 + 3 - 1 + (2 + 3) - (1 + 2 + 3) "
     ]
    }
   ],
   "metadata": {}
  }
 ]
}