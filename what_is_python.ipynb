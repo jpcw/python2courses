{
 "metadata": {
  "name": ""
 },
 "nbformat": 3,
 "nbformat_minor": 0,
 "worksheets": [
  {
   "cells": [
    {
     "cell_type": "heading",
     "level": 2,
     "metadata": {},
     "source": [
      "What is Python ?"
     ]
    },
    {
     "cell_type": "raw",
     "metadata": {},
     "source": [
      "Python est un language objet(car tout est objet) multi plateformes, interpr\u00e9t\u00e9 \u00e0 typage dynamique fort.\n",
      "\n",
      "Typage dynamique :"
     ]
    },
    {
     "cell_type": "code",
     "collapsed": false,
     "input": [
      ">>> class Martian(object):\n",
      "...     \"\"\"A simple object.\"\"\"\n",
      "... \n",
      ">>> demo = Martian()\n",
      ">>> demo.a_new_attribute_on_the_fly = \"Here Java's coders think : oO\"\n",
      ">>> print(demo.a_new_attribute_on_the_fly)"
     ],
     "language": "python",
     "metadata": {},
     "outputs": [
      {
       "output_type": "stream",
       "stream": "stdout",
       "text": [
        "Here Java's coders think : oO\n"
       ]
      }
     ],
     "prompt_number": 2
    },
    {
     "cell_type": "raw",
     "metadata": {},
     "source": [
      "fort car le type est respect\u00e9 et qu'il n'y a pas de conversions implicites:"
     ]
    },
    {
     "cell_type": "code",
     "collapsed": false,
     "input": [
      ">>> '33' * 2"
     ],
     "language": "python",
     "metadata": {},
     "outputs": [
      {
       "metadata": {},
       "output_type": "pyout",
       "prompt_number": 3,
       "text": [
        "'3333'"
       ]
      }
     ],
     "prompt_number": 3
    },
    {
     "cell_type": "raw",
     "metadata": {},
     "source": [
      "Mutli-paradigmes (prog imp\u00e9rative et objet)\n",
      "\n",
      "c'est un language concis dans l'\u00e9criture ou son faible nombre de mots clefs"
     ]
    },
    {
     "cell_type": "code",
     "collapsed": false,
     "input": [
      ">>> import keyword\n",
      ">>> len(keyword.kwlist)"
     ],
     "language": "python",
     "metadata": {},
     "outputs": [
      {
       "metadata": {},
       "output_type": "pyout",
       "prompt_number": 7,
       "text": [
        "31"
       ]
      }
     ],
     "prompt_number": 7
    },
    {
     "cell_type": "code",
     "collapsed": false,
     "input": [
      ">>> print(keyword.kwlist)"
     ],
     "language": "python",
     "metadata": {},
     "outputs": [
      {
       "output_type": "stream",
       "stream": "stdout",
       "text": [
        "['and', 'as', 'assert', 'break', 'class', 'continue', 'def', 'del', 'elif', 'else', 'except', 'exec', 'finally', 'for', 'from', 'global', 'if', 'import', 'in', 'is', 'lambda', 'not', 'or', 'pass', 'print', 'raise', 'return', 'try', 'while', 'with', 'yield']\n"
       ]
      }
     ],
     "prompt_number": 8
    },
    {
     "cell_type": "raw",
     "metadata": {},
     "source": [
      "avec un \"garbage collector\" et un gestionnaire d'exceptions.\n",
      "\n",
      "Python est polymorphyque, a des fonctionalit\u00e9s avanc\u00e9es telles que l'introspection, les meta-classes, le \"duck typing\", ou les decorators.\n"
     ]
    },
    {
     "cell_type": "raw",
     "metadata": {},
     "source": [
      "Mais Python c'est surtout une \"philosophie\" qui mets l'accent sur la clart\u00e9, lisibilit\u00e9 et la concision du code.\n",
      "\n",
      "Un language communautaire qui \u00e9volue avec des PEP (Python Enhancement Proposal).\n",
      "\n",
      "Enfin c'est aussi ceci :"
     ]
    },
    {
     "cell_type": "code",
     "collapsed": false,
     "input": [
      ">>> import this"
     ],
     "language": "python",
     "metadata": {},
     "outputs": [
      {
       "output_type": "stream",
       "stream": "stdout",
       "text": [
        "The Zen of Python, by Tim Peters\n",
        "\n",
        "Beautiful is better than ugly.\n",
        "Explicit is better than implicit.\n",
        "Simple is better than complex.\n",
        "Complex is better than complicated.\n",
        "Flat is better than nested.\n",
        "Sparse is better than dense.\n",
        "Readability counts.\n",
        "Special cases aren't special enough to break the rules.\n",
        "Although practicality beats purity.\n",
        "Errors should never pass silently.\n",
        "Unless explicitly silenced.\n",
        "In the face of ambiguity, refuse the temptation to guess.\n",
        "There should be one-- and preferably only one --obvious way to do it.\n",
        "Although that way may not be obvious at first unless you're Dutch.\n",
        "Now is better than never.\n",
        "Although never is often better than *right* now.\n",
        "If the implementation is hard to explain, it's a bad idea.\n",
        "If the implementation is easy to explain, it may be a good idea.\n",
        "Namespaces are one honking great idea -- let's do more of those!\n"
       ]
      }
     ],
     "prompt_number": 1
    }
   ],
   "metadata": {}
  }
 ]
}