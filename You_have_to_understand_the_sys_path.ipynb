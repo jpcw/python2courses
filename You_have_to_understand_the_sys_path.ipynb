{
 "metadata": {
  "name": ""
 },
 "nbformat": 3,
 "nbformat_minor": 0,
 "worksheets": [
  {
   "cells": [
    {
     "cell_type": "heading",
     "level": 2,
     "metadata": {},
     "source": [
      "Mais qu'est-ce qu'il sys.path ?"
     ]
    },
    {
     "cell_type": "code",
     "collapsed": false,
     "input": [
      ">>> from pprint import pprint\n",
      ">>> import sys\n",
      ">>> pprint(sys.path)"
     ],
     "language": "python",
     "metadata": {},
     "outputs": [
      {
       "output_type": "stream",
       "stream": "stdout",
       "text": [
        "['',\n",
        " '/usr/local/lib/python2.7/site-packages/distribute-0.6.35-py2.7.egg',\n",
        " '/usr/local/lib/python2.7/site-packages/distribute-0.7.3-py2.7.egg',\n",
        " '/usr/local/lib/python2.7/site-packages/setuptools-1.1.6-py2.7.egg',\n",
        " '/usr/local/lib/python2.7/site-packages/ipython-1.1.0-py2.7.egg',\n",
        " '/usr/local/lib/python2.7/site-packages/Jinja2-2.7.1-py2.7.egg',\n",
        " '/usr/local/lib/python2.7/site-packages/MarkupSafe-0.18-py2.7-freebsd-9.0-RELEASE-p3-amd64.egg',\n",
        " '/usr/local/lib/python2.7/site-packages/tornado-3.1.1-py2.7.egg',\n",
        " '/usr/local/lib/python2.7/site-packages/IPy-0.81-py2.7.egg',\n",
        " '/usr/local/lib/python2.7/site-packages/Pygments-1.6-py2.7.egg',\n",
        " '/usr/local/lib/python27.zip',\n",
        " '/usr/local/lib/python2.7',\n",
        " '/usr/local/lib/python2.7/plat-freebsd9',\n",
        " '/usr/local/lib/python2.7/lib-tk',\n",
        " '/usr/local/lib/python2.7/lib-old',\n",
        " '/usr/local/lib/python2.7/lib-dynload',\n",
        " '/usr/local/lib/python2.7/site-packages',\n",
        " '/usr/local/lib/python2.7/site-packages/setuptools-0.6c11-py2.7.egg-info',\n",
        " '/usr/local/lib/python2.7/site-packages/ipython-1.1.0-py2.7.egg/IPython/extensions']\n"
       ]
      }
     ],
     "prompt_number": 1
    },
    {
     "cell_type": "heading",
     "level": 3,
     "metadata": {},
     "source": [
      "Comment est b\u00e2ti le sys.path"
     ]
    },
    {
     "cell_type": "heading",
     "level": 3,
     "metadata": {},
     "source": [
      "virtual_env"
     ]
    },
    {
     "cell_type": "heading",
     "level": 3,
     "metadata": {},
     "source": [
      "Pourquoi pip est dangereux"
     ]
    },
    {
     "cell_type": "heading",
     "level": 3,
     "metadata": {},
     "source": [
      "Fabriquer un egg"
     ]
    }
   ],
   "metadata": {}
  }
 ]
}