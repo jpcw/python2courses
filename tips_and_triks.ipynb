{
 "metadata": {
  "name": ""
 },
 "nbformat": 3,
 "nbformat_minor": 0,
 "worksheets": [
  {
   "cells": [
    {
     "cell_type": "heading",
     "level": 2,
     "metadata": {},
     "source": [
      "unknown tips and tools"
     ]
    },
    {
     "cell_type": "raw",
     "metadata": {},
     "source": [
      "Quelques exemples de codes sur des choses bien trop souvent m\u00e9conues"
     ]
    },
    {
     "cell_type": "raw",
     "metadata": {},
     "source": [
      ".. exo:: swapper deux variables"
     ]
    },
    {
     "cell_type": "code",
     "collapsed": false,
     "input": [
      ">>> a, b = 1, 2\n",
      ">>> a, b = b, a\n",
      ">>> a, b"
     ],
     "language": "python",
     "metadata": {},
     "outputs": [
      {
       "metadata": {},
       "output_type": "pyout",
       "prompt_number": 1,
       "text": [
        "(2, 1)"
       ]
      }
     ],
     "prompt_number": 1
    },
    {
     "cell_type": "raw",
     "metadata": {},
     "source": [
      ".. exo:: donner l'indice et l'\u00e9l\u00e9ment pour chaque item d'une liste"
     ]
    },
    {
     "cell_type": "code",
     "collapsed": false,
     "input": [
      ">>> help(enumerate)"
     ],
     "language": "python",
     "metadata": {},
     "outputs": [
      {
       "output_type": "stream",
       "stream": "stdout",
       "text": [
        "Help on class enumerate in module __builtin__:\n",
        "\n",
        "class enumerate(object)\n",
        " |  enumerate(iterable[, start]) -> iterator for index, value of iterable\n",
        " |  \n",
        " |  Return an enumerate object.  iterable must be another object that supports\n",
        " |  iteration.  The enumerate object yields pairs containing a count (from\n",
        " |  start, which defaults to zero) and a value yielded by the iterable argument.\n",
        " |  enumerate is useful for obtaining an indexed list:\n",
        " |      (0, seq[0]), (1, seq[1]), (2, seq[2]), ...\n",
        " |  \n",
        " |  Methods defined here:\n",
        " |  \n",
        " |  __getattribute__(...)\n",
        " |      x.__getattribute__('name') <==> x.name\n",
        " |  \n",
        " |  __iter__(...)\n",
        " |      x.__iter__() <==> iter(x)\n",
        " |  \n",
        " |  next(...)\n",
        " |      x.next() -> the next value, or raise StopIteration\n",
        " |  \n",
        " |  ----------------------------------------------------------------------\n",
        " |  Data and other attributes defined here:\n",
        " |  \n",
        " |  __new__ = <built-in method __new__ of type object>\n",
        " |      T.__new__(S, ...) -> a new object with type S, a subtype of T\n",
        "\n"
       ]
      }
     ],
     "prompt_number": 2
    },
    {
     "cell_type": "code",
     "collapsed": false,
     "input": [
      ">>> fruits = ['bananes', 'pommes', 'fraises']\n",
      ">>> print([(idx, fruit) for idx, fruit in enumerate(fruits)])"
     ],
     "language": "python",
     "metadata": {},
     "outputs": [
      {
       "output_type": "stream",
       "stream": "stdout",
       "text": [
        "[(0, 'bananes'), (1, 'pommes'), (2, 'fraises')]\n"
       ]
      }
     ],
     "prompt_number": 3
    },
    {
     "cell_type": "heading",
     "level": 4,
     "metadata": {},
     "source": [
      "zip"
     ]
    },
    {
     "cell_type": "raw",
     "metadata": {},
     "source": [
      ".. exo:: fabriquer un dictionnaire de l'alphabet : {1: 'a', 2: 'b' ...}"
     ]
    },
    {
     "cell_type": "code",
     "collapsed": false,
     "input": [
      ">>> help(zip)"
     ],
     "language": "python",
     "metadata": {},
     "outputs": [
      {
       "output_type": "stream",
       "stream": "stdout",
       "text": [
        "Help on built-in function zip in module __builtin__:\n",
        "\n",
        "zip(...)\n",
        "    zip(seq1 [, seq2 [...]]) -> [(seq1[0], seq2[0] ...), (...)]\n",
        "    \n",
        "    Return a list of tuples, where each tuple contains the i-th element\n",
        "    from each of the argument sequences.  The returned list is truncated\n",
        "    in length to the length of the shortest argument sequence.\n",
        "\n"
       ]
      }
     ],
     "prompt_number": 4
    },
    {
     "cell_type": "code",
     "collapsed": false,
     "input": [
      ">>> from string import ascii_lowercase\n",
      ">>> from pprint import pprint\n",
      ">>> pprint(dict(zip(range(1, 27), ascii_lowercase)))"
     ],
     "language": "python",
     "metadata": {},
     "outputs": [
      {
       "output_type": "stream",
       "stream": "stdout",
       "text": [
        "{1: 'a',\n",
        " 2: 'b',\n",
        " 3: 'c',\n",
        " 4: 'd',\n",
        " 5: 'e',\n",
        " 6: 'f',\n",
        " 7: 'g',\n",
        " 8: 'h',\n",
        " 9: 'i',\n",
        " 10: 'j',\n",
        " 11: 'k',\n",
        " 12: 'l',\n",
        " 13: 'm',\n",
        " 14: 'n',\n",
        " 15: 'o',\n",
        " 16: 'p',\n",
        " 17: 'q',\n",
        " 18: 'r',\n",
        " 19: 's',\n",
        " 20: 't',\n",
        " 21: 'u',\n",
        " 22: 'v',\n",
        " 23: 'w',\n",
        " 24: 'x',\n",
        " 25: 'y',\n",
        " 26: 'z'}\n"
       ]
      }
     ],
     "prompt_number": 5
    },
    {
     "cell_type": "heading",
     "level": 4,
     "metadata": {},
     "source": [
      "any"
     ]
    },
    {
     "cell_type": "code",
     "collapsed": false,
     "input": [
      ">>> tests = [False, True, '', 1]"
     ],
     "language": "python",
     "metadata": {},
     "outputs": [],
     "prompt_number": 6
    },
    {
     "cell_type": "raw",
     "metadata": {},
     "source": [
      ".. exo:: dire si au moins un \u00e9l\u00e9ment est vrai dans tests"
     ]
    },
    {
     "cell_type": "code",
     "collapsed": false,
     "input": [
      ">>> any(tests)"
     ],
     "language": "python",
     "metadata": {},
     "outputs": [
      {
       "metadata": {},
       "output_type": "pyout",
       "prompt_number": 7,
       "text": [
        "True"
       ]
      }
     ],
     "prompt_number": 7
    },
    {
     "cell_type": "heading",
     "level": 4,
     "metadata": {},
     "source": [
      "all"
     ]
    },
    {
     "cell_type": "raw",
     "metadata": {},
     "source": [
      ".. exo:: dire si tous les \u00e9l\u00e9ments sont vrais dans tests"
     ]
    },
    {
     "cell_type": "code",
     "collapsed": false,
     "input": [
      ">>> all(tests)"
     ],
     "language": "python",
     "metadata": {},
     "outputs": [
      {
       "metadata": {},
       "output_type": "pyout",
       "prompt_number": 8,
       "text": [
        "False"
       ]
      }
     ],
     "prompt_number": 8
    },
    {
     "cell_type": "raw",
     "metadata": {},
     "source": []
    },
    {
     "cell_type": "code",
     "collapsed": false,
     "input": [
      ">>> users = [[\"Jean\", \"Peuxplus\", 9], [\"marc\", \"El\", 5], \n",
      "...          [u\"M\u00e9gane\", \"Renault\", 7], [\"Franck\", \"Einstein\", 15]]"
     ],
     "language": "python",
     "metadata": {},
     "outputs": [],
     "prompt_number": 9
    },
    {
     "cell_type": "raw",
     "metadata": {},
     "source": [
      ".. exo:: donner une liste des users tri\u00e9e par leur \u00e2ge (9, 5 etc.)"
     ]
    },
    {
     "cell_type": "code",
     "collapsed": false,
     "input": [
      ">>> import operator\n",
      ">>> pprint(sorted(users, key=operator.itemgetter(2)))"
     ],
     "language": "python",
     "metadata": {},
     "outputs": [
      {
       "output_type": "stream",
       "stream": "stdout",
       "text": [
        "[['marc', 'El', 5],\n",
        " [u'M\\xe9gane', 'Renault', 7],\n",
        " ['Jean', 'Peuxplus', 9],\n",
        " ['Franck', 'Einstein', 15]]\n"
       ]
      }
     ],
     "prompt_number": 10
    },
    {
     "cell_type": "raw",
     "metadata": {},
     "source": [
      "d'autres l'auraient \u00e9crit avec map combin\u00e9 \u00e0 une lambda"
     ]
    },
    {
     "cell_type": "code",
     "collapsed": false,
     "input": [
      ">>> users.sort(cmp=lambda x, y: cmp(x[2], y[2]))\n",
      ">>> pprint(users)"
     ],
     "language": "python",
     "metadata": {},
     "outputs": [
      {
       "output_type": "stream",
       "stream": "stdout",
       "text": [
        "[['marc', 'El', 5],\n",
        " [u'M\\xe9gane', 'Renault', 7],\n",
        " ['Jean', 'Peuxplus', 9],\n",
        " ['Franck', 'Einstein', 15]]\n"
       ]
      }
     ],
     "prompt_number": 11
    },
    {
     "cell_type": "raw",
     "metadata": {},
     "source": [
      "Notez que dans le premier cas on a utilis\u00e9 sorted qui renvoie une nouvelle liste, alors que dans le second cas users est tri\u00e9e in place.\n",
      "Rappel les listes sont des objets muables."
     ]
    },
    {
     "cell_type": "heading",
     "level": 4,
     "metadata": {},
     "source": [
      "filter"
     ]
    },
    {
     "cell_type": "raw",
     "metadata": {},
     "source": [
      "filter permet donc d'associer une fonction (qui renvoie True ou False) sur chaque \u00e9l\u00e9ment d'un iterable. Si la fonction n'est pas fournie, bool(elt) est appliqu\u00e9 et seuls les \u00e9l\u00e9ments \"vrais\" sont retourn\u00e9s"
     ]
    },
    {
     "cell_type": "code",
     "collapsed": false,
     "input": [
      "help(filter)"
     ],
     "language": "python",
     "metadata": {},
     "outputs": [
      {
       "output_type": "stream",
       "stream": "stdout",
       "text": [
        "Help on built-in function filter in module __builtin__:\n",
        "\n",
        "filter(...)\n",
        "    filter(function or None, sequence) -> list, tuple, or string\n",
        "    \n",
        "    Return those items of sequence for which function(item) is true.  If\n",
        "    function is None, return the items that are true.  If sequence is a tuple\n",
        "    or string, return the same type, else return a list.\n",
        "\n"
       ]
      }
     ],
     "prompt_number": 12
    },
    {
     "cell_type": "code",
     "collapsed": false,
     "input": [
      "def is_odd(nber):\n",
      "    return nber % 2 == 0\n",
      "\n",
      "elements = range(0, 21)\n",
      "\n",
      "filter(is_odd, elements)"
     ],
     "language": "python",
     "metadata": {},
     "outputs": [
      {
       "metadata": {},
       "output_type": "pyout",
       "prompt_number": 13,
       "text": [
        "[0, 2, 4, 6, 8, 10, 12, 14, 16, 18, 20]"
       ]
      }
     ],
     "prompt_number": 13
    },
    {
     "cell_type": "code",
     "collapsed": false,
     "input": [
      "filter(None, [False, True, 'a text', 2, '', []])"
     ],
     "language": "python",
     "metadata": {},
     "outputs": [
      {
       "metadata": {},
       "output_type": "pyout",
       "prompt_number": 14,
       "text": [
        "[True, 'a text', 2]"
       ]
      }
     ],
     "prompt_number": 14
    },
    {
     "cell_type": "heading",
     "level": 4,
     "metadata": {},
     "source": [
      "map"
     ]
    },
    {
     "cell_type": "code",
     "collapsed": false,
     "input": [
      "help(map)"
     ],
     "language": "python",
     "metadata": {},
     "outputs": [
      {
       "output_type": "stream",
       "stream": "stdout",
       "text": [
        "Help on built-in function map in module __builtin__:\n",
        "\n",
        "map(...)\n",
        "    map(function, sequence[, sequence, ...]) -> list\n",
        "    \n",
        "    Return a list of the results of applying the function to the items of\n",
        "    the argument sequence(s).  If more than one sequence is given, the\n",
        "    function is called with an argument list consisting of the corresponding\n",
        "    item of each sequence, substituting None for missing values when not all\n",
        "    sequences have the same length.  If the function is None, return a list of\n",
        "    the items of the sequence (or a list of tuples if more than one sequence).\n",
        "\n"
       ]
      }
     ],
     "prompt_number": 15
    },
    {
     "cell_type": "code",
     "collapsed": false,
     "input": [
      "def double(nber):\n",
      "    return nber * 2\n",
      "\n",
      "map(double, elements)"
     ],
     "language": "python",
     "metadata": {},
     "outputs": [
      {
       "metadata": {},
       "output_type": "pyout",
       "prompt_number": 16,
       "text": [
        "[0, 2, 4, 6, 8, 10, 12, 14, 16, 18, 20, 22, 24, 26, 28, 30, 32, 34, 36, 38, 40]"
       ]
      }
     ],
     "prompt_number": 16
    },
    {
     "cell_type": "heading",
     "level": 4,
     "metadata": {},
     "source": [
      "unicodedata"
     ]
    },
    {
     "cell_type": "code",
     "collapsed": false,
     "input": [
      ">>> utf8_with_french_accents = \"\u00e7 \u00e0\u00e9\u00e8\u00eb\u00ef\u00f4\u00f9\".decode('utf-8')\n",
      ">>> import unicodedata\n",
      ">>> unicodedata.normalize('NFKD', utf8_with_french_accents).encode('ascii','ignore')"
     ],
     "language": "python",
     "metadata": {},
     "outputs": [
      {
       "metadata": {},
       "output_type": "pyout",
       "prompt_number": 20,
       "text": [
        "'c aeeeiou'"
       ]
      }
     ],
     "prompt_number": 20
    },
    {
     "cell_type": "heading",
     "level": 4,
     "metadata": {},
     "source": [
      "SimpleHTTPServer"
     ]
    },
    {
     "cell_type": "raw",
     "metadata": {},
     "source": [
      "athena:~ jpcw$ python -m SimpleHTTPServer\n",
      "Serving HTTP on 0.0.0.0 port 8000 ..."
     ]
    },
    {
     "cell_type": "heading",
     "level": 4,
     "metadata": {},
     "source": [
      "Switcher en structures de donn\u00e9es"
     ]
    },
    {
     "cell_type": "raw",
     "metadata": {},
     "source": [
      ".. exo:: retourner la liste des \u00e9l\u00e9ments uniques d'une autre liste."
     ]
    },
    {
     "cell_type": "code",
     "collapsed": false,
     "input": [
      ">>> duplicates = range(15) * 2\n",
      ">>> len(duplicates)"
     ],
     "language": "python",
     "metadata": {},
     "outputs": [
      {
       "metadata": {},
       "output_type": "pyout",
       "prompt_number": 22,
       "text": [
        "30"
       ]
      }
     ],
     "prompt_number": 22
    },
    {
     "cell_type": "code",
     "collapsed": false,
     "input": [
      ">>> single = list(set(duplicates))\n",
      ">>> single"
     ],
     "language": "python",
     "metadata": {},
     "outputs": [
      {
       "metadata": {},
       "output_type": "pyout",
       "prompt_number": 23,
       "text": [
        "[0, 1, 2, 3, 4, 5, 6, 7, 8, 9, 10, 11, 12, 13, 14]"
       ]
      }
     ],
     "prompt_number": 23
    },
    {
     "cell_type": "heading",
     "level": 4,
     "metadata": {},
     "source": [
      "Antigravity"
     ]
    },
    {
     "cell_type": "raw",
     "metadata": {},
     "source": [
      ">>> import antigravity"
     ]
    }
   ],
   "metadata": {}
  }
 ]
}