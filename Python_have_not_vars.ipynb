{
 "metadata": {
  "name": ""
 },
 "nbformat": 3,
 "nbformat_minor": 0,
 "worksheets": [
  {
   "cells": [
    {
     "cell_type": "heading",
     "level": 2,
     "metadata": {},
     "source": [
      "Python n'a pas de variable !"
     ]
    },
    {
     "cell_type": "raw",
     "metadata": {},
     "source": [
      "Bien que le terme soit commun\u00e9ment employ\u00e9 par facilit\u00e9 de compr\u00e9hension (nous continuerons nous aussi durant la formation), le terme variable au sens traditionnel du terme est abusif.\n",
      "\n",
      "Python utilise des \u00e9tiquettes vers des emplacement m\u00e9moires: ce sont des r\u00e9f\u00e9rences vers ces emplacements (on peut voir cel\u00e0 comme des pointeurs, mais l'analogie n'est pas forc\u00e9ment exacte stricto sensu)."
     ]
    },
    {
     "cell_type": "heading",
     "level": 3,
     "metadata": {},
     "source": [
      "What's id ?"
     ]
    },
    {
     "cell_type": "code",
     "collapsed": false,
     "input": [
      ">>> one = 1\n",
      ">>> an_other_one = 1\n",
      ">>> yet_an_other_one = one\n",
      ">>> id(one)"
     ],
     "language": "python",
     "metadata": {},
     "outputs": [
      {
       "metadata": {},
       "output_type": "pyout",
       "prompt_number": 12,
       "text": [
        "34389131064"
       ]
      }
     ],
     "prompt_number": 12
    },
    {
     "cell_type": "code",
     "collapsed": false,
     "input": [
      ">>> id(an_other_one), id(yet_an_other_one)"
     ],
     "language": "python",
     "metadata": {},
     "outputs": [
      {
       "metadata": {},
       "output_type": "pyout",
       "prompt_number": 13,
       "text": [
        "(34389131064, 34389131064)"
       ]
      }
     ],
     "prompt_number": 13
    },
    {
     "cell_type": "code",
     "collapsed": false,
     "input": [
      ">>> an_other_one is yet_an_other_one"
     ],
     "language": "python",
     "metadata": {},
     "outputs": [
      {
       "metadata": {},
       "output_type": "pyout",
       "prompt_number": 14,
       "text": [
        "True"
       ]
      }
     ],
     "prompt_number": 14
    },
    {
     "cell_type": "heading",
     "level": 3,
     "metadata": {},
     "source": [
      "is or == ?"
     ]
    },
    {
     "cell_type": "code",
     "collapsed": false,
     "input": [
      ">>> text = \"some text\"\n",
      ">>> text is not None"
     ],
     "language": "python",
     "metadata": {},
     "outputs": [
      {
       "metadata": {},
       "output_type": "pyout",
       "prompt_number": 15,
       "text": [
        "True"
       ]
      }
     ],
     "prompt_number": 15
    },
    {
     "cell_type": "raw",
     "metadata": {},
     "source": [
      "is compare les id (emplacements m\u00e9moires) tandis que == compare les valeurs via la m\u00e9thode __eq__ qui elle m\u00eame s'appuie sur __call__, __cmp__, __getattribute__, __hash__, __repr__"
     ]
    },
    {
     "cell_type": "code",
     "collapsed": false,
     "input": [
      ">>> text = \"a string\"\n",
      ">>> help(text.__eq__)"
     ],
     "language": "python",
     "metadata": {},
     "outputs": [
      {
       "output_type": "stream",
       "stream": "stdout",
       "text": [
        "Help on method-wrapper object:\n",
        "\n",
        "__eq__ = class method-wrapper(object)\n",
        " |  Methods defined here:\n",
        " |  \n",
        " |  __call__(...)\n",
        " |      x.__call__(...) <==> x(...)\n",
        " |  \n",
        " |  __cmp__(...)\n",
        " |      x.__cmp__(y) <==> cmp(x,y)\n",
        " |  \n",
        " |  __getattribute__(...)\n",
        " |      x.__getattribute__('name') <==> x.name\n",
        " |  \n",
        " |  __hash__(...)\n",
        " |      x.__hash__() <==> hash(x)\n",
        " |  \n",
        " |  __repr__(...)\n",
        " |      x.__repr__() <==> repr(x)\n",
        " |  \n",
        " |  ----------------------------------------------------------------------\n",
        " |  Data descriptors defined here:\n",
        " |  \n",
        " |  __objclass__\n",
        " |  \n",
        " |  __self__\n",
        "\n"
       ]
      }
     ],
     "prompt_number": 16
    },
    {
     "cell_type": "raw",
     "metadata": {},
     "source": [
      "Aller plus loin : http://docs.python.org/2/reference/datamodel.html#object.__lt__\n",
      "\n",
      ".. warning:: Lorsque l'on red\u00e9fini l'op\u00e9rateur __equ__ il faut aussi red\u00e9finir __ne__ (not equal) il en va de m\u00eame pour les o\u00e9prateurs  +, - etc. "
     ]
    },
    {
     "cell_type": "heading",
     "level": 3,
     "metadata": {},
     "source": [
      "What's True False ?"
     ]
    },
    {
     "cell_type": "raw",
     "metadata": {},
     "source": [
      ".. note:: En Python tout est vrai sauf : None, False, 0 et tout conteneur de longueur zero : '', [], {}, (), set() etc."
     ]
    },
    {
     "cell_type": "raw",
     "metadata": {},
     "source": [
      ".. more_details:: pour \u00eatre pr\u00e9cis, dans le cas des conteneurs vides, __non_zero__ n'est pas d\u00e9fini, mais __len__ l'est. Python cherche donc la m\u00e9thode __non_zero__ puis __len__, dans le cas ou aucune des deux n'est d\u00e9finie l'objet sera consid\u00e9r\u00e9 comme True. http://docs.python.org/2/reference/datamodel.html#object.__nonzero__"
     ]
    },
    {
     "cell_type": "code",
     "collapsed": false,
     "input": [
      ">>> def repr_bool(objects):\n",
      "...     \"\"\"Return obj.__repr__() and bool(obj) for each obj in objects.\"\"\"\n",
      "... \n",
      "...     for obj in objects:\n",
      "...         print('bool(%s) is %s' % (obj.__repr__(), bool(obj)))\n",
      "... \n",
      ">>> repr_bool([None, False, 0, [], (), {}, set(), '', 2, 'non empty containers are True'])"
     ],
     "language": "python",
     "metadata": {},
     "outputs": [
      {
       "output_type": "stream",
       "stream": "stdout",
       "text": [
        "bool(None) is False\n",
        "bool(False) is False\n",
        "bool(0) is False\n",
        "bool([]) is False\n",
        "bool(()) is False\n",
        "bool({}) is False\n",
        "bool(set([])) is False\n",
        "bool('') is False\n",
        "bool(2) is True\n",
        "bool('non empty containers are True') is True\n"
       ]
      }
     ],
     "prompt_number": 17
    },
    {
     "cell_type": "raw",
     "metadata": {},
     "source": [
      "On \u00e9crit donc des tests de ce style :"
     ]
    },
    {
     "cell_type": "code",
     "collapsed": false,
     "input": [
      ">>> empty = []\n",
      ">>> def is_empty(obj):\n",
      "...     if obj:\n",
      "...         return False\n",
      "...     else:\n",
      "...         return True\n",
      "... \n",
      ">>> is_empty(empty)"
     ],
     "language": "python",
     "metadata": {},
     "outputs": [
      {
       "metadata": {},
       "output_type": "pyout",
       "prompt_number": 18,
       "text": [
        "True"
       ]
      }
     ],
     "prompt_number": 18
    },
    {
     "cell_type": "raw",
     "metadata": {},
     "source": [
      "ici is_empty sert \u00e0 montrer l'\u00e9criture du if\n",
      "\n",
      "dans du code je l'aurais \u00e9crite de la fa\u00e7on suivante "
     ]
    },
    {
     "cell_type": "code",
     "collapsed": false,
     "input": [
      ">>> def is_empty(obj):\n",
      "...     return not bool(obj)\n",
      "... \n",
      ">>> is_empty(text)"
     ],
     "language": "python",
     "metadata": {},
     "outputs": [
      {
       "metadata": {},
       "output_type": "pyout",
       "prompt_number": 19,
       "text": [
        "False"
       ]
      }
     ],
     "prompt_number": 19
    },
    {
     "cell_type": "heading",
     "level": 3,
     "metadata": {},
     "source": [
      "There is no \"Void\" ! Hum and what returns a function which doesn't return a value ?"
     ]
    },
    {
     "cell_type": "raw",
     "metadata": {},
     "source": [
      "Il n'y a pas de distinguo entre une proc\u00e9dure(void) et une fonction, une fonction qui ne renvoie pas de valeur explicite renvoie None"
     ]
    },
    {
     "cell_type": "code",
     "collapsed": false,
     "input": [
      ">>> def i_am_not_nothing_i_return_None():\n",
      "...     \"\"\"Illustrates that a void or a function which doesn't return a valur returns None.\"\"\"\n",
      "... \n",
      "...     print('some text')\n",
      "... \n",
      ">>> i_am_not_nothing_i_return_None() is None"
     ],
     "language": "python",
     "metadata": {},
     "outputs": [
      {
       "output_type": "stream",
       "stream": "stdout",
       "text": [
        "some text\n"
       ]
      },
      {
       "metadata": {},
       "output_type": "pyout",
       "prompt_number": 20,
       "text": [
        "True"
       ]
      }
     ],
     "prompt_number": 20
    },
    {
     "cell_type": "code",
     "collapsed": false,
     "input": [
      ">>> def is_between_10_and_20_or_less_than_5(nber):\n",
      "...     if 10 <= nber <= 20:\n",
      "...         return True\n",
      "...     if nber < 5:\n",
      "...         return True    \n",
      "... \n",
      ">>> is_between_10_and_20_or_less_than_5(30) is None"
     ],
     "language": "python",
     "metadata": {},
     "outputs": [
      {
       "metadata": {},
       "output_type": "pyout",
       "prompt_number": 21,
       "text": [
        "True"
       ]
      }
     ],
     "prompt_number": 21
    }
   ],
   "metadata": {}
  }
 ]
}